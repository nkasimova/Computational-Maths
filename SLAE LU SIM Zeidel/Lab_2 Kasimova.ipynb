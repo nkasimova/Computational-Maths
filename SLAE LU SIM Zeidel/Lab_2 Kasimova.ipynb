{
  "nbformat": 4,
  "nbformat_minor": 0,
  "metadata": {
    "colab": {
      "name": "Untitled.ipynb",
      "version": "0.3.2",
      "provenance": [],
      "collapsed_sections": []
    },
    "kernelspec": {
      "display_name": "Python 3",
      "language": "python",
      "name": "python3"
    }
  },
  "cells": [
    {
      "metadata": {
        "id": "q1nRYbjmKcy9",
        "colab_type": "code",
        "colab": {}
      },
      "cell_type": "code",
      "source": [
        "import numpy as np"
      ],
      "execution_count": 0,
      "outputs": []
    },
    {
      "metadata": {
        "id": "5IQp2kHvKc02",
        "colab_type": "code",
        "colab": {}
      },
      "cell_type": "code",
      "source": [
        "A = np.array([[2., 7., -8., 6.],\n",
        "            [4., 4., 0., -7.],\n",
        "            [-1., -3., 6., 3.],\n",
        "            [9., -7., -2., -8.]])"
      ],
      "execution_count": 0,
      "outputs": []
    },
    {
      "metadata": {
        "id": "DRMpZcDcKc1g",
        "colab_type": "code",
        "colab": {}
      },
      "cell_type": "code",
      "source": [
        "f = np.array([-39., 41., 4., 113.])"
      ],
      "execution_count": 0,
      "outputs": []
    },
    {
      "metadata": {
        "id": "KmFYdDiLKc15",
        "colab_type": "text"
      },
      "cell_type": "markdown",
      "source": [
        "### LU - разложение"
      ]
    },
    {
      "metadata": {
        "id": "3dFfYx8iKc2C",
        "colab_type": "code",
        "colab": {}
      },
      "cell_type": "code",
      "source": [
        "def LU_decomposition(a):\n",
        "    # Представим матрицу А в виде произведения двух матриц, A = LU, где\n",
        "    # L - нижнетреугольная матрица с единицами на главной диагонали\n",
        "    # U - верхнетреугольная матрица\n",
        "    l = np.zeros_like(a)\n",
        "    u = np.zeros_like(a)\n",
        "    \n",
        "    n = len(a)\n",
        "    \n",
        "    for j in range(n):\n",
        "        u[0][j] = a[0][j]\n",
        "        l[j][0] = float(a[j][0]) / float(u[0][0])\n",
        "        \n",
        "    for i in range(1,  n):\n",
        "        for j in range(i, n):\n",
        "            cur_sum = 0\n",
        "            for k in range(i):\n",
        "                cur_sum += l[i][k] * u[k][j]\n",
        "            u[i][j] = a[i][j] - cur_sum\n",
        "        for j in range(i, n):\n",
        "            cur_sum = 0\n",
        "            for k in range(i):\n",
        "                cur_sum += l[j][k] * u[k][i]\n",
        "            l[j][i] = (a[j][i] - cur_sum) / u[i][i]\n",
        "    return l, u"
      ],
      "execution_count": 0,
      "outputs": []
    },
    {
      "metadata": {
        "id": "3659RgglKc2K",
        "colab_type": "code",
        "colab": {
          "base_uri": "https://localhost:8080/",
          "height": 88
        },
        "outputId": "9cbff701-4080-4d79-e2f2-62ffddd1eb93"
      },
      "cell_type": "code",
      "source": [
        "A"
      ],
      "execution_count": 5,
      "outputs": [
        {
          "output_type": "execute_result",
          "data": {
            "text/plain": [
              "array([[ 2.,  7., -8.,  6.],\n",
              "       [ 4.,  4.,  0., -7.],\n",
              "       [-1., -3.,  6.,  3.],\n",
              "       [ 9., -7., -2., -8.]])"
            ]
          },
          "metadata": {
            "tags": []
          },
          "execution_count": 5
        }
      ]
    },
    {
      "metadata": {
        "id": "ppCE5FrYKc2q",
        "colab_type": "code",
        "colab": {}
      },
      "cell_type": "code",
      "source": [
        "l, u = LU_decomposition(A)"
      ],
      "execution_count": 0,
      "outputs": []
    },
    {
      "metadata": {
        "id": "GeQ9747LKc21",
        "colab_type": "code",
        "colab": {
          "base_uri": "https://localhost:8080/",
          "height": 88
        },
        "outputId": "d55fc709-b931-4ac3-cc34-106bc1bf7260"
      },
      "cell_type": "code",
      "source": [
        "l @ u"
      ],
      "execution_count": 7,
      "outputs": [
        {
          "output_type": "execute_result",
          "data": {
            "text/plain": [
              "array([[ 2.,  7., -8.,  6.],\n",
              "       [ 4.,  4.,  0., -7.],\n",
              "       [-1., -3.,  6.,  3.],\n",
              "       [ 9., -7., -2., -8.]])"
            ]
          },
          "metadata": {
            "tags": []
          },
          "execution_count": 7
        }
      ]
    },
    {
      "metadata": {
        "id": "_U40LZYYKc3D",
        "colab_type": "code",
        "colab": {
          "base_uri": "https://localhost:8080/",
          "height": 88
        },
        "outputId": "6802c4d3-5535-4f47-9fcb-589ac1fc3e3e"
      },
      "cell_type": "code",
      "source": [
        "l"
      ],
      "execution_count": 8,
      "outputs": [
        {
          "output_type": "execute_result",
          "data": {
            "text/plain": [
              "array([[ 1.        ,  0.        ,  0.        ,  0.        ],\n",
              "       [ 2.        ,  1.        ,  0.        ,  0.        ],\n",
              "       [-0.5       , -0.05      ,  1.        ,  0.        ],\n",
              "       [ 4.5       ,  3.85      , -9.85714286,  1.        ]])"
            ]
          },
          "metadata": {
            "tags": []
          },
          "execution_count": 8
        }
      ]
    },
    {
      "metadata": {
        "id": "Xp5KgXYKKc3M",
        "colab_type": "code",
        "colab": {
          "base_uri": "https://localhost:8080/",
          "height": 88
        },
        "outputId": "7fa2ebad-ac15-49dd-82fc-c35313a04946"
      },
      "cell_type": "code",
      "source": [
        "u"
      ],
      "execution_count": 9,
      "outputs": [
        {
          "output_type": "execute_result",
          "data": {
            "text/plain": [
              "array([[  2.        ,   7.        ,  -8.        ,   6.        ],\n",
              "       [  0.        , -10.        ,  16.        , -19.        ],\n",
              "       [  0.        ,   0.        ,   2.8       ,   5.05      ],\n",
              "       [  0.        ,   0.        ,   0.        ,  87.92857143]])"
            ]
          },
          "metadata": {
            "tags": []
          },
          "execution_count": 9
        }
      ]
    },
    {
      "metadata": {
        "id": "wXxJT0i_Kc3i",
        "colab_type": "code",
        "colab": {}
      },
      "cell_type": "code",
      "source": [
        "def solution_with_LU(l, u, f):\n",
        "    \n",
        "    n = len(l)\n",
        "    y = np.zeros(n)\n",
        "    for i in range(n):\n",
        "        cur_sum = 0\n",
        "        for k in range(i):\n",
        "            cur_sum += l[i][k] * y[k]\n",
        "        y[i] = f[i] - cur_sum\n",
        "    \n",
        "    x = np.zeros(n)\n",
        "    \n",
        "    for i in range(n):\n",
        "        cur_sum = 0\n",
        "        for k in range(i):\n",
        "            cur_sum += u[n - 1 - i][n - 1 - k] * x[n - 1 - k]\n",
        "        x[n - 1 - i] = (y[n - 1 - i] - cur_sum) / u[n - 1 - i][n - 1 - i]\n",
        "    return x"
      ],
      "execution_count": 0,
      "outputs": []
    },
    {
      "metadata": {
        "id": "WM7CHBgcKc3q",
        "colab_type": "code",
        "colab": {
          "base_uri": "https://localhost:8080/",
          "height": 35
        },
        "outputId": "b55c695e-4a01-41fc-b4ee-0b0d9cf23d1b"
      },
      "cell_type": "code",
      "source": [
        "solution_with_LU(l, u, f)"
      ],
      "execution_count": 11,
      "outputs": [
        {
          "output_type": "execute_result",
          "data": {
            "text/plain": [
              "array([ 8., -3.,  2., -3.])"
            ]
          },
          "metadata": {
            "tags": []
          },
          "execution_count": 11
        }
      ]
    },
    {
      "metadata": {
        "id": "RSvZhX-JKc34",
        "colab_type": "text"
      },
      "cell_type": "markdown",
      "source": [
        "### Метод простых итераций"
      ]
    },
    {
      "metadata": {
        "id": "UzmAHNmqKc36",
        "colab_type": "code",
        "colab": {
          "base_uri": "https://localhost:8080/",
          "height": 35
        },
        "outputId": "eced24be-0ba1-487e-b9f6-1c0941ff51f3"
      },
      "cell_type": "code",
      "source": [
        "# Выберем tau = 2/(lambda_min + lambda_max)\n",
        "lambds, q = np.linalg.eig(A)\n",
        "tau = 2/(np.max(lambds) + np.min(lambds))\n",
        "tau"
      ],
      "execution_count": 12,
      "outputs": [
        {
          "output_type": "execute_result",
          "data": {
            "text/plain": [
              "(-0.2197263533843342-0.047494776136670254j)"
            ]
          },
          "metadata": {
            "tags": []
          },
          "execution_count": 12
        }
      ]
    },
    {
      "metadata": {
        "id": "d5fb-NhDKc4H",
        "colab_type": "code",
        "colab": {}
      },
      "cell_type": "code",
      "source": [
        "# Возьмем tau равным\n",
        "tau = 0.0234"
      ],
      "execution_count": 0,
      "outputs": []
    },
    {
      "metadata": {
        "id": "xY_rPh0kKc4R",
        "colab_type": "code",
        "colab": {}
      },
      "cell_type": "code",
      "source": [
        "def metric(x, y):\n",
        "    return np.sqrt(np.sum((x - y)**2))"
      ],
      "execution_count": 0,
      "outputs": []
    },
    {
      "metadata": {
        "id": "Nn8gvFQ5Kc4b",
        "colab_type": "code",
        "colab": {}
      },
      "cell_type": "code",
      "source": [
        "def mpi(a, f, tau=0.0234, eps = 10e-6):\n",
        "    E = np.diag(np.ones(len(a)))\n",
        "    F = tau * f\n",
        "    R = E - tau * a\n",
        "    # начальное приближение\n",
        "    u_k = np.zeros(len(a))\n",
        "    prev = u_k\n",
        "    metr = 10\n",
        "    i = 0\n",
        "    while (i < 100 and metr > 10e-6): #0.0001003837173332081\n",
        "        #r_k = f - A * prev\n",
        "        i += 1\n",
        "        u_k = R @ prev + F\n",
        "        #u_k = R @ prev + F\n",
        "        metr = metric(u_k, prev)\n",
        "        prev = u_k\n",
        "        print(f'metrica = {metr}, sequences = {prev}')\n",
        "    return u_k"
      ],
      "execution_count": 0,
      "outputs": []
    },
    {
      "metadata": {
        "id": "UnVmkUfTKc42",
        "colab_type": "code",
        "colab": {
          "base_uri": "https://localhost:8080/",
          "height": 106
        },
        "outputId": "a04f6701-bd12-4058-9553-a40d6160e81f"
      },
      "cell_type": "code",
      "source": [
        "tau = 0.000001\n",
        "E = np.diag(np.ones(len(A)))\n",
        "R = E - tau * A\n",
        "print(R)\n",
        "np.max(np.sum(np.abs(R), axis = 1))"
      ],
      "execution_count": 18,
      "outputs": [
        {
          "output_type": "stream",
          "text": [
            "[[ 9.999980e-01 -7.000000e-06  8.000000e-06 -6.000000e-06]\n",
            " [-4.000000e-06  9.999960e-01  0.000000e+00  7.000000e-06]\n",
            " [ 1.000000e-06  3.000000e-06  9.999940e-01 -3.000000e-06]\n",
            " [-9.000000e-06  7.000000e-06  2.000000e-06  1.000008e+00]]\n"
          ],
          "name": "stdout"
        },
        {
          "output_type": "execute_result",
          "data": {
            "text/plain": [
              "1.000026"
            ]
          },
          "metadata": {
            "tags": []
          },
          "execution_count": 18
        }
      ]
    },
    {
      "metadata": {
        "id": "o9pDU5clKc5B",
        "colab_type": "code",
        "colab": {
          "base_uri": "https://localhost:8080/",
          "height": 1832
        },
        "outputId": "7d2c9c44-ba80-45aa-d73c-8c761adc3afb"
      },
      "cell_type": "code",
      "source": [
        "mpi(A, f, tau=0.000001)"
      ],
      "execution_count": 19,
      "outputs": [
        {
          "output_type": "stream",
          "text": [
            "metrica = 0.00012643970895252803, sequences = [-3.90e-05  4.10e-05  4.00e-06  1.13e-04]\n",
            "metrica = 0.00012644160299452256, sequences = [-7.8000855e-05  8.2000783e-05  7.9997210e-06  2.2600155e-04]\n",
            "metrica = 0.00012644349706903565, sequences = [-1.17002565e-04  1.23002349e-04  1.19991630e-05  3.39004650e-04]\n",
            "metrica = 0.00012644539117606782, sequences = [-1.56005130e-04  1.64004698e-04  1.59983260e-05  4.52009300e-04]\n",
            "metrica = 0.00012644728531561946, sequences = [-1.9500855e-04  2.0500783e-04  1.9997210e-05  5.6501550e-04]\n",
            "metrica = 0.00012644917948769125, sequences = [-2.34012825e-04  2.46011745e-04  2.39958150e-05  6.78023251e-04]\n",
            "metrica = 0.0001264510736922834, sequences = [-2.73017956e-04  2.87016443e-04  2.79941409e-05  7.91032551e-04]\n",
            "metrica = 0.00012645296792939667, sequences = [-3.12023941e-04  3.28021925e-04  3.19921879e-05  9.04043401e-04]\n",
            "metrica = 0.00012645486219903118, sequences = [-3.51030781e-04  3.69028189e-04  3.59899559e-05  1.01705580e-03]\n",
            "metrica = 0.00012645675650118773, sequences = [-3.90038477e-04  4.10035236e-04  3.99874448e-05  1.13006975e-03]\n",
            "metrica = 0.00012645865083586684, sequences = [-4.29047028e-04  4.51043067e-04  4.39846548e-05  1.24308525e-03]\n",
            "metrica = 0.00012646054520306854, sequences = [-4.68056433e-04  4.92051680e-04  4.79815857e-05  1.35610231e-03]\n",
            "metrica = 0.00012646243960279425, sequences = [-5.07066694e-04  5.33061077e-04  5.19782376e-05  1.46912091e-03]\n",
            "metrica = 0.00012646433403504318, sequences = [-5.46077811e-04  5.74071257e-04  5.59746105e-05  1.58214106e-03]\n",
            "metrica = 0.0001264662284998168, sequences = [-5.85089782e-04  6.15082220e-04  5.99707043e-05  1.69516276e-03]\n",
            "metrica = 0.00012646812299711493, sequences = [-6.24102609e-04  6.56093966e-04  6.39665192e-05  1.80818601e-03]\n",
            "metrica = 0.00012647001752693856, sequences = [-6.63116290e-04  6.97106496e-04  6.79620550e-05  1.92121082e-03]\n",
            "metrica = 0.00012647191208928782, sequences = [-7.02130827e-04  7.38119808e-04  7.19573118e-05  2.03423717e-03]\n",
            "metrica = 0.0001264738066841637, sequences = [-7.41146220e-04  7.79133904e-04  7.59522896e-05  2.14726507e-03]\n",
            "metrica = 0.00012647570131156587, sequences = [-7.80162467e-04  8.20148783e-04  7.99469883e-05  2.26029453e-03]\n",
            "metrica = 0.00012647759597149584, sequences = [-8.19179570e-04  8.61164445e-04  8.39414080e-05  2.37332553e-03]\n",
            "metrica = 0.00012647949066395292, sequences = [-8.58197529e-04  9.02180890e-04  8.79355487e-05  2.48635809e-03]\n",
            "metrica = 0.00012648138538893863, sequences = [-8.97216342e-04  9.43198119e-04  9.19294104e-05  2.59939219e-03]\n",
            "metrica = 0.00012648328014645282, sequences = [-9.36236011e-04  9.84216131e-04  9.59229930e-05  2.71242785e-03]\n",
            "metrica = 0.00012648517493649597, sequences = [-9.75256535e-04  1.02523493e-03  9.99162966e-05  2.82546506e-03]\n",
            "metrica = 0.00012648706975906893, sequences = [-0.00101428  0.00106625  0.00010391  0.0029385 ]\n",
            "metrica = 0.0001264889646141718, sequences = [-0.0010533   0.00110727  0.0001079   0.00305154]\n",
            "metrica = 0.00012649085950180593, sequences = [-0.00109232  0.0011483   0.00011189  0.00316459]\n",
            "metrica = 0.00012649275442197058, sequences = [-0.00113135  0.00118932  0.00011589  0.00327763]\n",
            "metrica = 0.0001264946493746666, sequences = [-0.00117037  0.00123034  0.00011988  0.00339067]\n",
            "metrica = 0.00012649654435989503, sequences = [-0.0012094   0.00127136  0.00012387  0.00350372]\n",
            "metrica = 0.00012649843937765574, sequences = [-0.00124842  0.00131239  0.00012786  0.00361677]\n",
            "metrica = 0.00012650033442794965, sequences = [-0.00128745  0.00135341  0.00013185  0.00372982]\n",
            "metrica = 0.0001265022295107767, sequences = [-0.00132648  0.00139444  0.00013584  0.00384287]\n",
            "metrica = 0.0001265041246261378, sequences = [-0.00136551  0.00143547  0.00013983  0.00395592]\n",
            "metrica = 0.00012650601977403375, sequences = [-0.00140454  0.00147649  0.00014382  0.00406898]\n",
            "metrica = 0.00012650791495446507, sequences = [-0.00144357  0.00151752  0.00014781  0.00418203]\n",
            "metrica = 0.00012650981016742972, sequences = [-0.0014826   0.00155855  0.0001518   0.00429509]\n",
            "metrica = 0.00012651170541293197, sequences = [-0.00152163  0.00159958  0.00015579  0.00440815]\n",
            "metrica = 0.0001265136006909702, sequences = [-0.00156067  0.00164061  0.00015978  0.00452121]\n",
            "metrica = 0.00012651549600154523, sequences = [-0.0015997   0.00168164  0.00016377  0.00463427]\n",
            "metrica = 0.00012651739134465756, sequences = [-0.00163874  0.00172267  0.00016776  0.00474733]\n",
            "metrica = 0.0001265192867203076, sequences = [-0.00167777  0.00176371  0.00017175  0.0048604 ]\n",
            "metrica = 0.00012652118212849565, sequences = [-0.00171681  0.00180474  0.00017574  0.00497347]\n",
            "metrica = 0.00012652307756922274, sequences = [-0.00175585  0.00184578  0.00017972  0.00508653]\n",
            "metrica = 0.00012652497304248948, sequences = [-0.00179489  0.00188681  0.00018371  0.0051996 ]\n",
            "metrica = 0.00012652686854829556, sequences = [-0.00183392  0.00192785  0.0001877   0.00531268]\n",
            "metrica = 0.00012652876408664068, sequences = [-0.00187296  0.00196888  0.00019169  0.00542575]\n",
            "metrica = 0.00012653065965752765, sequences = [-0.00191201  0.00200992  0.00019567  0.00553882]\n",
            "metrica = 0.00012653255526095622, sequences = [-0.00195105  0.00205096  0.00019966  0.0056519 ]\n",
            "metrica = 0.00012653445089692622, sequences = [-0.00199009  0.002092    0.00020364  0.00576498]\n",
            "metrica = 0.00012653634656543792, sequences = [-0.00202913  0.00213304  0.00020763  0.00587806]\n",
            "metrica = 0.00012653824226649277, sequences = [-0.00206818  0.00217408  0.00021162  0.00599114]\n",
            "metrica = 0.00012654013800008975, sequences = [-0.00210722  0.00221512  0.0002156   0.00610422]\n",
            "metrica = 0.00012654203376622985, sequences = [-0.00214627  0.00225616  0.00021959  0.0062173 ]\n",
            "metrica = 0.00012654392956491542, sequences = [-0.00218532  0.00229721  0.00022357  0.00633039]\n",
            "metrica = 0.00012654582539614465, sequences = [-0.00222437  0.00233825  0.00022755  0.00644347]\n",
            "metrica = 0.0001265477212599185, sequences = [-0.00226341  0.00237929  0.00023154  0.00655656]\n",
            "metrica = 0.00012654961715623936, sequences = [-0.00230246  0.00242034  0.00023552  0.00666965]\n",
            "metrica = 0.00012655151308510617, sequences = [-0.00234151  0.00246139  0.00023951  0.00678274]\n",
            "metrica = 0.00012655340904651734, sequences = [-0.00238057  0.00250243  0.00024349  0.00689584]\n",
            "metrica = 0.00012655530504047808, sequences = [-0.00241962  0.00254348  0.00024747  0.00700893]\n",
            "metrica = 0.00012655720106698418, sequences = [-0.00245867  0.00258453  0.00025146  0.00712203]\n",
            "metrica = 0.00012655909712603933, sequences = [-0.00249772  0.00262558  0.00025544  0.00723513]\n",
            "metrica = 0.00012656099321764242, sequences = [-0.00253678  0.00266663  0.00025942  0.00734823]\n",
            "metrica = 0.00012656288934179385, sequences = [-0.00257583  0.00270768  0.0002634   0.00746133]\n",
            "metrica = 0.0001265647854984949, sequences = [-0.00261489  0.00274873  0.00026738  0.00757443]\n",
            "metrica = 0.00012656668168774534, sequences = [-0.00265395  0.00278978  0.00027136  0.00768753]\n",
            "metrica = 0.00012656857790954728, sequences = [-0.00269301  0.00283084  0.00027535  0.00780064]\n",
            "metrica = 0.0001265704741638984, sequences = [-0.00273207  0.00287189  0.00027933  0.00791374]\n",
            "metrica = 0.0001265723704508033, sequences = [-0.00277113  0.00291295  0.00028331  0.00802685]\n",
            "metrica = 0.00012657426677025884, sequences = [-0.00281019  0.002954    0.00028729  0.00813996]\n",
            "metrica = 0.00012657616312226536, sequences = [-0.00284925  0.00299506  0.00029127  0.00825307]\n",
            "metrica = 0.00012657805950682521, sequences = [-0.00288831  0.00303612  0.00029525  0.00836619]\n",
            "metrica = 0.0001265799559239366, sequences = [-0.00292737  0.00307717  0.00029923  0.0084793 ]\n",
            "metrica = 0.00012658185237360409, sequences = [-0.00296644  0.00311823  0.0003032   0.00859242]\n",
            "metrica = 0.00012658374885582668, sequences = [-0.0030055   0.00315929  0.00030718  0.00870554]\n",
            "metrica = 0.00012658564537059973, sequences = [-0.00304457  0.00320035  0.00031116  0.00881866]\n",
            "metrica = 0.0001265875419179307, sequences = [-0.00308364  0.00324141  0.00031514  0.00893178]\n",
            "metrica = 0.00012658943849781686, sequences = [-0.0031227   0.00328248  0.00031912  0.0090449 ]\n",
            "metrica = 0.0001265913351102599, sequences = [-0.00316177  0.00332354  0.0003231   0.00915802]\n",
            "metrica = 0.00012659323175525711, sequences = [-0.00320084  0.0033646   0.00032707  0.00927115]\n",
            "metrica = 0.00012659512843281271, sequences = [-0.00323991  0.00340567  0.00033105  0.00938428]\n",
            "metrica = 0.00012659702514292712, sequences = [-0.00327898  0.00344673  0.00033503  0.00949741]\n",
            "metrica = 0.00012659892188559733, sequences = [-0.00331805  0.0034878   0.000339    0.00961054]\n",
            "metrica = 0.00012660081866082813, sequences = [-0.00335713  0.00352886  0.00034298  0.00972367]\n",
            "metrica = 0.00012660271546861794, sequences = [-0.0033962   0.00356993  0.00034696  0.0098368 ]\n",
            "metrica = 0.00012660461230896546, sequences = [-0.00343527  0.003611    0.00035093  0.00994994]\n",
            "metrica = 0.00012660650918187212, sequences = [-0.00347435  0.00365207  0.00035491  0.01006307]\n",
            "metrica = 0.00012660840608734, sequences = [-0.00351343  0.00369314  0.00035888  0.01017621]\n",
            "metrica = 0.00012661030302536864, sequences = [-0.0035525   0.00373421  0.00036286  0.01028935]\n",
            "metrica = 0.00012661219999596056, sequences = [-0.00359158  0.00377528  0.00036683  0.01040249]\n",
            "metrica = 0.00012661409699911338, sequences = [-0.00363066  0.00381635  0.00037081  0.01051563]\n",
            "metrica = 0.00012661599403482606, sequences = [-0.00366974  0.00385742  0.00037478  0.01062878]\n",
            "metrica = 0.00012661789110310522, sequences = [-0.00370882  0.0038985   0.00037875  0.01074192]\n",
            "metrica = 0.000126619788203946, sequences = [-0.0037479   0.00393957  0.00038273  0.01085507]\n",
            "metrica = 0.00012662168533734988, sequences = [-0.00378698  0.00398065  0.0003867   0.01096822]\n",
            "metrica = 0.0001266235825033186, sequences = [-0.00382607  0.00402172  0.00039067  0.01108137]\n",
            "metrica = 0.0001266254797018512, sequences = [-0.00386515  0.0040628   0.00039465  0.01119452]\n",
            "metrica = 0.00012662737693295016, sequences = [-0.00390423  0.00410388  0.00039862  0.01130768]\n"
          ],
          "name": "stdout"
        },
        {
          "output_type": "execute_result",
          "data": {
            "text/plain": [
              "array([-0.00390423,  0.00410388,  0.00039862,  0.01130768])"
            ]
          },
          "metadata": {
            "tags": []
          },
          "execution_count": 19
        }
      ]
    },
    {
      "metadata": {
        "id": "7LjzN0ufKc9P",
        "colab_type": "text"
      },
      "cell_type": "markdown",
      "source": [
        "### Метод Зейделя"
      ]
    },
    {
      "metadata": {
        "id": "B9KKYiX-Kc9Q",
        "colab_type": "code",
        "colab": {}
      },
      "cell_type": "code",
      "source": [
        "from math import sqrt\n",
        "import numpy as np\n",
        "\n",
        "def seidel(A, b, eps):\n",
        "    \n",
        "    n = len(A)\n",
        "    x = [.0 for i in range(n)]\n",
        "\n",
        "    converge = False\n",
        "    while not converge:\n",
        "        x_new = np.copy(x)\n",
        "        for i in range(n):\n",
        "            s1 = sum(A[i][j] * x_new[j] for j in range(i))\n",
        "            s2 = sum(A[i][j] * x[j] for j in range(i + 1, n))\n",
        "            x_new[i] = (b[i] - s1 - s2) / A[i][i]\n",
        "\n",
        "        converge = sqrt(sum((x_new[i] - x[i]) ** 2 for i in range(n))) <= eps\n",
        "        x = x_new\n",
        "\n",
        "    return x"
      ],
      "execution_count": 0,
      "outputs": []
    },
    {
      "metadata": {
        "id": "vMfGQckGKc9U",
        "colab_type": "code",
        "colab": {}
      },
      "cell_type": "code",
      "source": [
        "# Для сходимости метода Зейделя\n",
        "# поменяем местами строки матрицы\n",
        "A = np.array([[9., -7., -2., -8.],\n",
        "              [2., 7., -8., 6.],\n",
        "              [-1., -3., 6., 3.],\n",
        "              [4., 4., 0., -7.]])"
      ],
      "execution_count": 0,
      "outputs": []
    },
    {
      "metadata": {
        "id": "MYgsYsPbKc9e",
        "colab_type": "code",
        "colab": {}
      },
      "cell_type": "code",
      "source": [
        "f = np.array([113., -39., 4., 41.])"
      ],
      "execution_count": 0,
      "outputs": []
    },
    {
      "metadata": {
        "id": "P3uO0G1hKc9p",
        "colab_type": "code",
        "colab": {
          "base_uri": "https://localhost:8080/",
          "height": 35
        },
        "outputId": "3a64b150-41dd-4131-dcff-9bb726cfb337"
      },
      "cell_type": "code",
      "source": [
        "seidel(A, f, eps=10e-6)"
      ],
      "execution_count": 23,
      "outputs": [
        {
          "output_type": "execute_result",
          "data": {
            "text/plain": [
              "array([ 7.99999624, -2.99999441,  2.00000449, -2.99999895])"
            ]
          },
          "metadata": {
            "tags": []
          },
          "execution_count": 23
        }
      ]
    }
  ]
}