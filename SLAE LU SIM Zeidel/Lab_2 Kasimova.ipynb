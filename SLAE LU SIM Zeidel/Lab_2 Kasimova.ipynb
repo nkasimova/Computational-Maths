{
 "cells": [
  {
   "cell_type": "code",
   "execution_count": 1,
   "metadata": {
    "colab": {},
    "colab_type": "code",
    "id": "q1nRYbjmKcy9"
   },
   "outputs": [],
   "source": [
    "import numpy as np"
   ]
  },
  {
   "cell_type": "code",
   "execution_count": 2,
   "metadata": {
    "colab": {},
    "colab_type": "code",
    "id": "5IQp2kHvKc02"
   },
   "outputs": [],
   "source": [
    "A = np.array([[2., 7., -8., 6.],\n",
    "            [4., 4., 0., -7.],\n",
    "            [-1., -3., 6., 3.],\n",
    "            [9., -7., -2., -8.]])"
   ]
  },
  {
   "cell_type": "code",
   "execution_count": 3,
   "metadata": {
    "colab": {},
    "colab_type": "code",
    "id": "DRMpZcDcKc1g"
   },
   "outputs": [],
   "source": [
    "f = np.array([-39., 41., 4., 113.])"
   ]
  },
  {
   "cell_type": "markdown",
   "metadata": {
    "colab_type": "text",
    "id": "KmFYdDiLKc15"
   },
   "source": [
    "### LU - разложение"
   ]
  },
  {
   "cell_type": "code",
   "execution_count": 4,
   "metadata": {
    "colab": {},
    "colab_type": "code",
    "id": "3dFfYx8iKc2C"
   },
   "outputs": [],
   "source": [
    "def LU_decomposition(a):\n",
    "    # Представим матрицу А в виде произведения двух матриц, A = LU, где\n",
    "    # L - нижнетреугольная матрица с единицами на главной диагонали\n",
    "    # U - верхнетреугольная матрица\n",
    "    l = np.zeros_like(a)\n",
    "    u = np.zeros_like(a)\n",
    "    \n",
    "    n = len(a)\n",
    "    \n",
    "    for j in range(n):\n",
    "        u[0][j] = a[0][j]\n",
    "        l[j][0] = float(a[j][0]) / float(u[0][0])\n",
    "        \n",
    "    for i in range(1,  n):\n",
    "        for j in range(i, n):\n",
    "            cur_sum = 0\n",
    "            for k in range(i):\n",
    "                cur_sum += l[i][k] * u[k][j]\n",
    "            u[i][j] = a[i][j] - cur_sum\n",
    "        for j in range(i, n):\n",
    "            cur_sum = 0\n",
    "            for k in range(i):\n",
    "                cur_sum += l[j][k] * u[k][i]\n",
    "            l[j][i] = (a[j][i] - cur_sum) / u[i][i]\n",
    "    return l, u"
   ]
  },
  {
   "cell_type": "code",
   "execution_count": 5,
   "metadata": {
    "colab": {
     "base_uri": "https://localhost:8080/",
     "height": 88
    },
    "colab_type": "code",
    "id": "3659RgglKc2K",
    "outputId": "9cbff701-4080-4d79-e2f2-62ffddd1eb93"
   },
   "outputs": [
    {
     "data": {
      "text/plain": [
       "array([[ 2.,  7., -8.,  6.],\n",
       "       [ 4.,  4.,  0., -7.],\n",
       "       [-1., -3.,  6.,  3.],\n",
       "       [ 9., -7., -2., -8.]])"
      ]
     },
     "execution_count": 5,
     "metadata": {},
     "output_type": "execute_result"
    }
   ],
   "source": [
    "A"
   ]
  },
  {
   "cell_type": "code",
   "execution_count": 6,
   "metadata": {
    "colab": {},
    "colab_type": "code",
    "id": "ppCE5FrYKc2q"
   },
   "outputs": [],
   "source": [
    "l, u = LU_decomposition(A)"
   ]
  },
  {
   "cell_type": "code",
   "execution_count": 7,
   "metadata": {
    "colab": {
     "base_uri": "https://localhost:8080/",
     "height": 88
    },
    "colab_type": "code",
    "id": "GeQ9747LKc21",
    "outputId": "d55fc709-b931-4ac3-cc34-106bc1bf7260"
   },
   "outputs": [
    {
     "data": {
      "text/plain": [
       "array([[ 2.,  7., -8.,  6.],\n",
       "       [ 4.,  4.,  0., -7.],\n",
       "       [-1., -3.,  6.,  3.],\n",
       "       [ 9., -7., -2., -8.]])"
      ]
     },
     "execution_count": 7,
     "metadata": {},
     "output_type": "execute_result"
    }
   ],
   "source": [
    "l @ u"
   ]
  },
  {
   "cell_type": "code",
   "execution_count": 8,
   "metadata": {
    "colab": {
     "base_uri": "https://localhost:8080/",
     "height": 88
    },
    "colab_type": "code",
    "id": "_U40LZYYKc3D",
    "outputId": "6802c4d3-5535-4f47-9fcb-589ac1fc3e3e"
   },
   "outputs": [
    {
     "data": {
      "text/plain": [
       "array([[ 1.        ,  0.        ,  0.        ,  0.        ],\n",
       "       [ 2.        ,  1.        ,  0.        ,  0.        ],\n",
       "       [-0.5       , -0.05      ,  1.        ,  0.        ],\n",
       "       [ 4.5       ,  3.85      , -9.85714286,  1.        ]])"
      ]
     },
     "execution_count": 8,
     "metadata": {},
     "output_type": "execute_result"
    }
   ],
   "source": [
    "l"
   ]
  },
  {
   "cell_type": "code",
   "execution_count": 9,
   "metadata": {
    "colab": {
     "base_uri": "https://localhost:8080/",
     "height": 88
    },
    "colab_type": "code",
    "id": "Xp5KgXYKKc3M",
    "outputId": "7fa2ebad-ac15-49dd-82fc-c35313a04946"
   },
   "outputs": [
    {
     "data": {
      "text/plain": [
       "array([[  2.        ,   7.        ,  -8.        ,   6.        ],\n",
       "       [  0.        , -10.        ,  16.        , -19.        ],\n",
       "       [  0.        ,   0.        ,   2.8       ,   5.05      ],\n",
       "       [  0.        ,   0.        ,   0.        ,  87.92857143]])"
      ]
     },
     "execution_count": 9,
     "metadata": {},
     "output_type": "execute_result"
    }
   ],
   "source": [
    "u"
   ]
  },
  {
   "cell_type": "code",
   "execution_count": 10,
   "metadata": {
    "colab": {},
    "colab_type": "code",
    "id": "wXxJT0i_Kc3i"
   },
   "outputs": [],
   "source": [
    "def solution_with_LU(l, u, f):\n",
    "    \n",
    "    n = len(l)\n",
    "    y = np.zeros(n)\n",
    "    for i in range(n):\n",
    "        cur_sum = 0\n",
    "        for k in range(i):\n",
    "            cur_sum += l[i][k] * y[k]\n",
    "        y[i] = f[i] - cur_sum\n",
    "    \n",
    "    x = np.zeros(n)\n",
    "    \n",
    "    for i in range(n):\n",
    "        cur_sum = 0\n",
    "        for k in range(i):\n",
    "            cur_sum += u[n - 1 - i][n - 1 - k] * x[n - 1 - k]\n",
    "        x[n - 1 - i] = (y[n - 1 - i] - cur_sum) / u[n - 1 - i][n - 1 - i]\n",
    "    return x"
   ]
  },
  {
   "cell_type": "code",
   "execution_count": 11,
   "metadata": {
    "colab": {
     "base_uri": "https://localhost:8080/",
     "height": 35
    },
    "colab_type": "code",
    "id": "WM7CHBgcKc3q",
    "outputId": "b55c695e-4a01-41fc-b4ee-0b0d9cf23d1b"
   },
   "outputs": [
    {
     "data": {
      "text/plain": [
       "array([ 8., -3.,  2., -3.])"
      ]
     },
     "execution_count": 11,
     "metadata": {},
     "output_type": "execute_result"
    }
   ],
   "source": [
    "solution_with_LU(l, u, f)"
   ]
  },
  {
   "cell_type": "markdown",
   "metadata": {
    "colab_type": "text",
    "id": "RSvZhX-JKc34"
   },
   "source": [
    "### Метод простых итераций"
   ]
  },
  {
   "cell_type": "code",
   "execution_count": 12,
   "metadata": {
    "colab": {
     "base_uri": "https://localhost:8080/",
     "height": 35
    },
    "colab_type": "code",
    "id": "UzmAHNmqKc36",
    "outputId": "eced24be-0ba1-487e-b9f6-1c0941ff51f3"
   },
   "outputs": [
    {
     "data": {
      "text/plain": [
       "(-0.2197263533843342-0.047494776136670254j)"
      ]
     },
     "execution_count": 12,
     "metadata": {},
     "output_type": "execute_result"
    }
   ],
   "source": [
    "# Выберем tau = 2/(lambda_min + lambda_max)\n",
    "lambds, q = np.linalg.eig(A)\n",
    "tau = 2/(np.max(lambds) + np.min(lambds))\n",
    "tau"
   ]
  },
  {
   "cell_type": "code",
   "execution_count": 13,
   "metadata": {
    "colab": {},
    "colab_type": "code",
    "id": "d5fb-NhDKc4H"
   },
   "outputs": [],
   "source": [
    "# Возьмем tau равным\n",
    "tau = 0.0234"
   ]
  },
  {
   "cell_type": "code",
   "execution_count": 14,
   "metadata": {
    "colab": {},
    "colab_type": "code",
    "id": "xY_rPh0kKc4R"
   },
   "outputs": [],
   "source": [
    "def metric(x, y):\n",
    "    return np.sqrt(np.sum((x - y)**2))"
   ]
  },
  {
   "cell_type": "code",
   "execution_count": 19,
   "metadata": {
    "colab": {},
    "colab_type": "code",
    "id": "Nn8gvFQ5Kc4b"
   },
   "outputs": [],
   "source": [
    "def mpi(a, f, tau=0.0234, eps = 10e-6):\n",
    "    E = np.diag(np.ones(len(a)))\n",
    "    F = tau * f\n",
    "    R = E - tau * a\n",
    "    # начальное приближение\n",
    "    u_k = np.zeros(len(a))\n",
    "    prev = u_k\n",
    "    metr = 10\n",
    "    i = 0\n",
    "    while (i < 1000 and metr > 10e-6): \n",
    "        i += 1\n",
    "        u_k = R @ prev + F\n",
    "        metr = metric(u_k, prev)\n",
    "        prev = u_k\n",
    "        print(f'metrica = {metr}, sequences = {prev}')\n",
    "    return u_k"
   ]
  },
  {
   "cell_type": "code",
   "execution_count": 41,
   "metadata": {
    "colab": {
     "base_uri": "https://localhost:8080/",
     "height": 106
    },
    "colab_type": "code",
    "id": "UnVmkUfTKc42",
    "outputId": "a04f6701-bd12-4058-9553-a40d6160e81f"
   },
   "outputs": [
    {
     "name": "stdout",
     "output_type": "stream",
     "text": [
      "[[ 0.7894  0.1638  0.0468  0.1872]\n",
      " [-0.0936  0.9064  0.      0.1638]\n",
      " [ 0.0234  0.0702  0.8596 -0.0702]\n",
      " [-0.0468 -0.1638  0.1872  0.8596]]\n"
     ]
    },
    {
     "data": {
      "text/plain": [
       "1.2574"
      ]
     },
     "execution_count": 41,
     "metadata": {},
     "output_type": "execute_result"
    }
   ],
   "source": [
    "tau = 0.0234 #0.000001\n",
    "E = np.diag(np.ones(len(A)))\n",
    "R = E - tau * A\n",
    "print(R)\n",
    "np.max(np.sum(np.abs(R), axis = 1))"
   ]
  },
  {
   "cell_type": "code",
   "execution_count": 39,
   "metadata": {},
   "outputs": [],
   "source": [
    "# Для сходимости МПИ\n",
    "# поменяем местами строки матрицы\n",
    "A = np.array([[9., -7., -2., -8.],\n",
    "              [4., 4., 0., -7.],\n",
    "              [-1., -3., 6., 3.],             \n",
    "              [2., 7., -8., 6.]])\n",
    "\n",
    "f = np.array([113., 41., 4., -39.])"
   ]
  },
  {
   "cell_type": "code",
   "execution_count": 40,
   "metadata": {
    "colab": {
     "base_uri": "https://localhost:8080/",
     "height": 1832
    },
    "colab_type": "code",
    "id": "o9pDU5clKc5B",
    "outputId": "7d2c9c44-ba80-45aa-d73c-8c761adc3afb"
   },
   "outputs": [
    {
     "name": "stdout",
     "output_type": "stream",
     "text": [
      "metrica = 2.9586891894891565, sequences = [ 2.6442  0.9594  0.0936 -0.9126]\n",
      "metrica = 2.390495733132579, sequences = [ 4.72222296  1.43201916  0.36734724 -1.96044732]\n",
      "metrica = 1.886784424997995, sequences = [ 6.25668366  1.49426083  0.75802285 -2.98459789]\n",
      "metrica = 1.4679494652973433, sequences = [ 7.30474475  1.23929529  1.20601872 -3.87383118]\n",
      "metrica = 1.1465228200862942, sequences = [ 7.94482255  0.76443959  1.6601662  -4.5616372 ]\n",
      "metrica = 0.9234571770498521, sequences = [ 8.26481542  0.16145648  2.0804783  -5.02003313]\n",
      "metrica = 0.7838936412611839, sequences = [ 8.35250805 -0.49012399  2.4391164  -5.25159487]\n",
      "metrica = 0.6994755283008256, sequences = [ 8.28843963 -1.12685438  2.7199684  -5.28088343]\n",
      "metrica = 0.6406491617895481, sequences = [ 8.14122864 -1.70278747  2.91724717 -5.14618954]\n",
      "metrica = 0.5876951779296306, sequences = [ 7.96512979 -2.18897141  3.03349724 -4.89224877]\n",
      "metrica = 0.532248387313433, sequences = [ 7.79945864 -2.57157018  3.07734833 -4.56432092]\n",
      "metrica = 0.47347371887456297, sequences = [ 7.66944848 -2.8491363   3.06128706 -4.20380212]\n",
      "metrica = 0.4140445782866683, sequences = [ 7.58809058 -3.02950031  2.99964499 -3.84535703]\n",
      "metrica = 0.3574393417887387, sequences = [ 7.5585391  -3.12665384  2.9069293  -3.51542585]\n",
      "metrica = 0.30641346792012825, sequences = [ 7.57672144 -3.15790506  2.79655803 -3.23187662]\n",
      "metrica = 0.26230726037925484, sequences = [ 7.63387067 -3.14148766  2.68000937 -3.0045312 ]\n",
      "metrica = 0.22498986693756695, sequences = [ 7.71877803 -3.09471692  2.56635429 -2.83628673]\n",
      "metrica = 0.1932954795753693, sequences = [ 7.81964125 -3.03271281  2.46211575 -2.72457473]\n",
      "metrica = 0.1657115506802868, sequences = [ 7.92545307 -2.96765465  2.37138301 -2.66293722]\n",
      "metrica = 0.1409964907144452, sequences = [ 8.0269297  -2.9084937   2.29610528 -2.64254731]\n",
      "metrica = 0.11850708722981888, sequences = [ 8.11701991 -2.86102856  2.23649281 -2.6535518 ]\n",
      "metrica = 0.0982261311439577, sequences = [ 8.191062   -2.82824113  2.19146262 -2.68616173]\n",
      "metrica = 0.08060480474774881, sequences = [ 8.24666942 -2.81079446  2.15907814 -2.73145862]\n",
      "metrica = 0.06631297736576991, sequences = [ 8.28342851 -2.80760528  2.13694626 -2.7819184 ]\n",
      "metrica = 0.05589626522457552, sequences = [ 8.30248668 -2.81642057  2.12254802 -2.83167943]\n",
      "metrica = 0.049335388238193015, sequences = [ 8.30609816 -2.83434544  2.11349163 -2.87659734]\n",
      "metrica = 0.04577893203090213, sequences = [ 8.29718049 -2.85828814  2.10768619 -2.91413705]\n",
      "metrica = 0.043855426049424426, sequences = [ 8.27891994 -2.88530411  2.10344166 -2.9431538 ]\n",
      "metrica = 0.04231750687336144, sequences = [ 8.25444927 -2.91283515  2.09950623 -2.96361137]\n",
      "metrica = 0.040399720749555654, sequences = [ 8.2266087  -2.93884977  2.09505416 -2.97627859]\n",
      "metrica = 0.03780183256798672, sequences = [ 8.19779049 -2.96189844  2.0896387  -2.98243663]\n",
      "metrica = 0.034535656094708315, sequences = [ 8.16985981 -2.98110106  2.08312351 -2.9836198 ]\n",
      "metrica = 0.030781819656772232, sequences = [ 8.14413953 -2.9960858   2.0756045  -2.98140394]\n",
      "metrica = 0.026789362969237788, sequences = [ 8.12144437 -3.00689759  2.06733183 -2.97724854]\n",
      "metrica = 0.022812477275997077, sequences = [ 8.10214856 -3.01389248  2.05863887 -2.9723921 ]\n",
      "metrica = 0.019073585209088507, sequences = [ 8.08627298 -3.01763108  2.04988293 -2.96779602]\n",
      "metrica = 0.015743902091772562, sequences = [ 8.07357903 -3.01878095  2.04139973 -2.96412898]\n",
      "metrica = 0.012934562702412899, sequences = [ 8.06365953 -3.01803437  2.03347239 -2.96178242]\n",
      "metrica = 0.010692983881096766, sequences = [ 8.05601964 -3.01604485  2.02631361 -2.96090737]\n",
      "metrica = 0.009002224377906426, sequences = [ 8.05014338 -3.01338312  2.02005939 -2.96146364]\n",
      "metrica = 0.007787005457321577, sequences = [ 8.04554381 -3.01051162  2.01477166 -2.96327358]\n",
      "metrica = 0.006933458516551839, sequences = [ 8.04179698 -3.00777485  2.01044733 -2.96607437]\n",
      "metrica = 0.006320733451963412, sequences = [ 8.03856083 -3.0054023   2.0070312  -2.96956436]\n",
      "metrica = 0.005848812170223858, sequences = [ 8.03558163 -3.00352058  2.00443052 -2.97344104]\n",
      "metrica = 0.005449498679340377, sequences = [ 8.03269066 -3.00217114  2.0025295  -2.97742907]\n",
      "metrica = 0.005082595102053498, sequences = [ 8.02979403 -3.00133065  2.00120243 -2.9812988 ]\n",
      "metrica = 0.004726666337507603, sequences = [ 8.02685859 -3.00093156  2.00032455 -2.98487575]\n",
      "metrica = 0.0043710257413550144, sequences = [ 8.02389603 -3.00088098  1.99978036 -2.98804283]\n",
      "metrica = 0.004010894271181836, sequences = [ 8.02094732 -3.0010766   1.99946912 -2.99073676]\n",
      "metrica = 0.003645144465520299, sequences = [ 8.0180687  -3.00141918  1.99930797 -2.99294069]\n",
      "metrica = 0.003275419156187314, sequences = [ 8.01532009 -3.00182126  1.99923275 -2.99467452]\n",
      "metrica = 0.002905675014226324, sequences = [ 8.01275638 -3.00221244  1.99919726 -2.9959845 ]\n",
      "metrica = 0.0025416648341483866, sequences = [ 8.01042162 -3.00254161  1.99917126 -2.99693315]\n",
      "metrica = 0.0021902389469666663, sequences = [ 8.00834584 -3.00277683  1.99913777 -2.99759029]\n",
      "metrica = 0.0018585412753158222, sequences = [ 8.0065441  -3.00290338  1.99909002 -2.99802576]\n",
      "metrica = 0.001553231221088419, sequences = [ 8.00501733 -3.00292077  1.99902851 -2.99830399]\n",
      "metrica = 0.0012798375687983234, sequences = [ 8.00375429 -3.0028392   1.99895821 -2.99848036]\n",
      "metrica = 0.001042292297190681, sequences = [ 8.00273429 -3.00267594  1.99888634 -2.99859938]\n",
      "metrica = 0.0008426295633391011, sequences = [ 8.00193021 -3.00245198  1.9988205  -2.99869415]\n",
      "metrica = 0.000680791078120528, sequences = [ 8.00131133 -3.00218924  1.99876747 -2.99878699]\n",
      "metrica = 0.0005544933349659403, sequences = [ 8.00084596 -3.00190838  1.99873237 -2.9988908 ]\n",
      "metrica = 0.00045923878465155033, sequences = [ 8.00050352 -3.00162725  1.9987183  -2.99901083]\n",
      "metrica = 0.00038874203674464305, sequences = [ 8.00025613 -3.00136004  1.99872636 -2.99914666]\n",
      "metrica = 0.0003359832518584907, sequences = [ 8.00007955 -3.00111694  1.9987558  -2.99929411]\n",
      "metrica = 0.00029458648860883265, sequences = [ 7.99995376 -3.00090422  1.99880438 -2.9994469 ]\n",
      "metrica = 0.0002598140332777606, sequences = [ 7.99986297 -3.00072465  1.99886886 -2.9995981 ]\n",
      "metrica = 0.00022878525233806278, sequences = [ 7.99979543 -3.00057817  1.99894538 -2.99974116]\n",
      "metrica = 0.00020011864051683298, sequences = [ 7.99974291 -3.00046251  1.99902991 -2.99987065]\n",
      "metrica = 0.00017339468313737385, sequences = [ 7.9997001  -3.00037397  1.99911854 -2.99998262]\n",
      "metrica = 0.00014869441562288796, sequences = [ 7.99966401 -3.00030805  1.99920781 -3.00007478]\n",
      "metrica = 0.00012629151532983374, sequences = [ 7.99963324 -3.00026001  1.9992948  -3.0001464 ]\n",
      "metrica = 0.00010648262746904561, sequences = [ 7.99960748 -3.00022533  1.99937725 -3.0001981 ]\n",
      "metrica = 8.951121733220657e-05, sequences = [ 7.999587   -3.00019995  1.99945359 -3.00023159]\n",
      "metrica = 7.553694224125841e-05, sequences = [ 7.9995723  -3.00018051  1.99952286 -3.00024928]\n",
      "metrica = 6.460742781491854e-05, sequences = [ 7.99956381 -3.00016441  1.99958467 -3.00025402]\n",
      "metrica = 5.6605717551288784e-05, sequences = [ 7.99956175 -3.00014981  1.99963907 -3.00024876]\n",
      "metrica = 5.118942016243506e-05, sequences = [ 7.99956605 -3.00013551  1.99968643 -3.00023635]\n",
      "metrica = 4.778939058340451e-05, sequences = [ 7.99957632 -3.00012092  1.99972738 -3.00021936]\n",
      "metrica = 4.57163720114747e-05, sequences = [ 7.99959192 -3.00010588  1.99976265 -3.00019996]\n",
      "metrica = 4.432060207862911e-05, sequences = [ 7.99961198 -3.00009053  1.99979303 -3.00017988]\n",
      "metrica = 4.3103726900228246e-05, sequences = [ 7.99963551 -3.0000752   1.99981928 -3.00016038]\n",
      "metrica = 4.1747817016025775e-05, sequences = [ 7.99966147 -3.00006032  1.99984211 -3.00014232]\n",
      "metrica = 4.009092019692764e-05, sequences = [ 7.99968885 -3.00004629  1.99986211 -3.00012617]\n",
      "metrica = 3.808577739135278e-05, sequences = [ 7.99971673 -3.0000335   1.9998798  -3.00011212]\n",
      "metrica = 3.576079798404076e-05, sequences = [ 7.99974428 -3.00002222  1.99989556 -3.00010014]\n",
      "metrica = 3.318887297224516e-05, sequences = [ 7.99977086 -3.00001261  1.99990971 -3.00009002]\n",
      "metrica = 3.046404892777369e-05, sequences = [ 7.99979598 -3.00000473  1.99992246 -3.0000815 ]\n",
      "metrica = 2.7684723986815683e-05, sequences = [ 7.99981928 -2.99999854  1.99993396 -3.00007425]\n",
      "metrica = 2.4942051626047695e-05, sequences = [ 7.99984059 -2.99999392  1.99994432 -3.00006797]\n",
      "metrica = 2.2312518050562266e-05, sequences = [ 7.99985983 -2.9999907   1.99995361 -3.00006238]\n",
      "metrica = 1.9853890712137095e-05, sequences = [ 7.99987702 -2.99998867  1.99996187 -3.00005727]\n",
      "metrica = 1.760388750987313e-05, sequences = [ 7.99989227 -2.9999876   1.99996916 -3.00005247]\n",
      "metrica = 1.5581009970236905e-05, sequences = [ 7.99990573 -2.99998727  1.99997553 -3.00004787]\n",
      "metrica = 1.3787028580136034e-05, sequences = [ 7.99991756 -2.99998748  1.99998101 -3.0000434 ]\n",
      "metrica = 1.2210603929607124e-05, sequences = [ 7.99992796 -2.99998804  1.99998567 -3.00003905]\n",
      "metrica = 1.0831486701074132e-05, sequences = [ 7.99993711 -2.99998882  1.99998958 -3.00003484]\n",
      "metrica = 9.624709909869201e-06, sequences = [ 7.99994517 -2.99998968  1.9999928  -3.00003079]\n"
     ]
    },
    {
     "data": {
      "text/plain": [
       "array([ 7.99994517, -2.99998968,  1.9999928 , -3.00003079])"
      ]
     },
     "execution_count": 40,
     "metadata": {},
     "output_type": "execute_result"
    }
   ],
   "source": [
    "mpi(A, f)"
   ]
  },
  {
   "cell_type": "markdown",
   "metadata": {
    "colab_type": "text",
    "id": "7LjzN0ufKc9P"
   },
   "source": [
    "### Метод Зейделя"
   ]
  },
  {
   "cell_type": "code",
   "execution_count": 0,
   "metadata": {
    "colab": {},
    "colab_type": "code",
    "id": "B9KKYiX-Kc9Q"
   },
   "outputs": [],
   "source": [
    "from math import sqrt\n",
    "import numpy as np\n",
    "\n",
    "def seidel(A, b, eps):\n",
    "    \n",
    "    n = len(A)\n",
    "    x = [.0 for i in range(n)]\n",
    "\n",
    "    converge = False\n",
    "    while not converge:\n",
    "        x_new = np.copy(x)\n",
    "        for i in range(n):\n",
    "            s1 = sum(A[i][j] * x_new[j] for j in range(i))\n",
    "            s2 = sum(A[i][j] * x[j] for j in range(i + 1, n))\n",
    "            x_new[i] = (b[i] - s1 - s2) / A[i][i]\n",
    "\n",
    "        converge = sqrt(sum((x_new[i] - x[i]) ** 2 for i in range(n))) <= eps\n",
    "        x = x_new\n",
    "\n",
    "    return x"
   ]
  },
  {
   "cell_type": "code",
   "execution_count": 0,
   "metadata": {
    "colab": {},
    "colab_type": "code",
    "id": "vMfGQckGKc9U"
   },
   "outputs": [],
   "source": [
    "# Для сходимости метода Зейделя\n",
    "# поменяем местами строки матрицы\n",
    "A = np.array([[9., -7., -2., -8.],\n",
    "              [2., 7., -8., 6.],\n",
    "              [-1., -3., 6., 3.],\n",
    "              [4., 4., 0., -7.]])\n",
    "\n",
    "f = np.array([113., -39., 4., 41.])"
   ]
  },
  {
   "cell_type": "code",
   "execution_count": 23,
   "metadata": {
    "colab": {
     "base_uri": "https://localhost:8080/",
     "height": 35
    },
    "colab_type": "code",
    "id": "P3uO0G1hKc9p",
    "outputId": "3a64b150-41dd-4131-dcff-9bb726cfb337"
   },
   "outputs": [
    {
     "data": {
      "text/plain": [
       "array([ 7.99999624, -2.99999441,  2.00000449, -2.99999895])"
      ]
     },
     "execution_count": 23,
     "metadata": {
      "tags": []
     },
     "output_type": "execute_result"
    }
   ],
   "source": [
    "seidel(A, f, eps=10e-6)"
   ]
  }
 ],
 "metadata": {
  "colab": {
   "collapsed_sections": [],
   "name": "Untitled.ipynb",
   "provenance": [],
   "version": "0.3.2"
  },
  "kernelspec": {
   "display_name": "Python 3",
   "language": "python",
   "name": "python3"
  },
  "language_info": {
   "codemirror_mode": {
    "name": "ipython",
    "version": 3
   },
   "file_extension": ".py",
   "mimetype": "text/x-python",
   "name": "python",
   "nbconvert_exporter": "python",
   "pygments_lexer": "ipython3",
   "version": "3.6.4"
  }
 },
 "nbformat": 4,
 "nbformat_minor": 1
}
